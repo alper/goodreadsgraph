{
 "cells": [
  {
   "cell_type": "code",
   "execution_count": 1,
   "metadata": {},
   "outputs": [],
   "source": [
    "%matplotlib inline"
   ]
  },
  {
   "cell_type": "code",
   "execution_count": 2,
   "metadata": {},
   "outputs": [],
   "source": [
    "import pandas as pd\n",
    "import numpy as np\n",
    "import matplotlib\n",
    "import matplotlib.pyplot as plt"
   ]
  },
  {
   "cell_type": "code",
   "execution_count": 3,
   "metadata": {},
   "outputs": [],
   "source": [
    "df = pd.read_csv('data_definitive.csv')"
   ]
  },
  {
   "cell_type": "code",
   "execution_count": 4,
   "metadata": {},
   "outputs": [
    {
     "data": {
      "text/plain": [
       "Index(['Title', 'Year', 'Month', 'Day', 'Pages'], dtype='object')"
      ]
     },
     "execution_count": 4,
     "metadata": {},
     "output_type": "execute_result"
    }
   ],
   "source": [
    "df.columns"
   ]
  },
  {
   "cell_type": "code",
   "execution_count": 5,
   "metadata": {},
   "outputs": [
    {
     "name": "stdout",
     "output_type": "stream",
     "text": [
      "       Title\n",
      "Month       \n",
      "1          6\n",
      "2          2\n",
      "3          2\n",
      "4          2\n",
      "6          3\n",
      "7          6\n",
      "8          3\n",
      "9          4\n",
      "10         5\n",
      "11         5\n",
      "12        14\n"
     ]
    },
    {
     "data": {
      "text/plain": [
       "<matplotlib.axes._subplots.AxesSubplot at 0x1078ef390>"
      ]
     },
     "execution_count": 5,
     "metadata": {},
     "output_type": "execute_result"
    },
    {
     "data": {
      "image/png": "[encoded data removed]",
      "text/plain": [
       "<matplotlib.figure.Figure at 0x1078b3da0>"
      ]
     },
     "metadata": {},
     "output_type": "display_data"
    }
   ],
   "source": [
    "pivoted_count = pd.pivot_table(df, values='Title', index=['Month'], aggfunc='count')\n",
    "print(pivoted_count)\n",
    "pivoted_count.plot.bar()"
   ]
  },
  {
   "cell_type": "code",
   "execution_count": 6,
   "metadata": {},
   "outputs": [
    {
     "name": "stdout",
     "output_type": "stream",
     "text": [
      "       Pages\n",
      "Month       \n",
      "1       1797\n",
      "2        459\n",
      "3        754\n",
      "4        392\n",
      "6        814\n",
      "7       2353\n",
      "8       1286\n",
      "9       1549\n",
      "10      1526\n",
      "11      1347\n",
      "12      2772\n"
     ]
    },
    {
     "data": {
      "text/plain": [
       "<matplotlib.axes._subplots.AxesSubplot at 0x1078b3668>"
      ]
     },
     "execution_count": 6,
     "metadata": {},
     "output_type": "execute_result"
    },
    {
     "data": {
      "image/png": "[encoded data removed]",
      "text/plain": [
       "<matplotlib.figure.Figure at 0x107924b00>"
      ]
     },
     "metadata": {},
     "output_type": "display_data"
    }
   ],
   "source": [
    "pivoted_pages = pd.pivot_table(df, values='Pages', index=['Month'], aggfunc=np.sum)\n",
    "print(pivoted_pages)\n",
    "pivoted_pages.plot.bar()"
   ]
  },
  {
   "cell_type": "code",
   "execution_count": 7,
   "metadata": {},
   "outputs": [
    {
     "name": "stdout",
     "output_type": "stream",
     "text": [
      "1\n",
      "1797\n",
      "2\n",
      "459\n",
      "3\n",
      "754\n",
      "4\n",
      "392\n",
      "6\n",
      "814\n",
      "7\n",
      "2353\n",
      "8\n",
      "1286\n",
      "9\n",
      "1549\n",
      "10\n",
      "1526\n",
      "11\n",
      "1347\n",
      "12\n",
      "2772\n"
     ]
    }
   ],
   "source": [
    "grouped = df.groupby('Month')\n",
    "for name, group in grouped:\n",
    "    print(name)\n",
    "    print(group['Pages'].sum())\n",
    "#  plt.figure()\n",
    "#  matplotlib.pyplot.hist(group)\n",
    "#  plt.show()"
   ]
  },
  {
   "cell_type": "code",
   "execution_count": 8,
   "metadata": {},
   "outputs": [
    {
     "name": "stdout",
     "output_type": "stream",
     "text": [
      "Lean UX: Applying Lean Principles to Improve User Experience\n",
      "Água Viva\n",
      "Extreme Ownership: How U.S. Navy SEALs Lead and Win\n",
      "The Lathe of Heaven\n",
      "Blue Mars (Mars Trilogy, #3)\n",
      "The Holocaust Industry: Reflections on the Exploitation of Jewish Suffering\n",
      "Mann Und Vater Sein\n",
      "Open City\n",
      "Personal Kanban: Mapping Work Navigating Life\n",
      "The Name Of The Rose\n",
      "Notes on the Synthesis of Form\n",
      "We Have Never Been Modern\n",
      "Aarde der Mensen\n",
      "Babys brauchen Väter\n",
      "Unfortunately, It Was Paradise: Selected Poems\n",
      "The Happiest Baby on the Block and The Happiest Toddler on the Block 2-Book Bundle\n",
      "The Hundred Thousand Kingdoms (Inheritance Trilogy, #1)\n",
      "Advanced Swift\n",
      "The Broken Kingdoms (Inheritance, #2)\n",
      "The Baby Whisperer Solves All Your Problems: Sleeping, Feeding, and Behavior--Beyond the Basics from Infancy Through Toddlerhood\n",
      "The Principles of Product Development Flow: Second Generation Lean Product Development\n",
      "Managing Humans: Biting and Humorous Tales of a Software Engineering Manager\n",
      "The Kingdom of Gods (Inheritance, #3)\n",
      "The Art of Not Being Governed: An Anarchist History of Upland Southeast Asia\n",
      "The Truth of Suffering and the Path of Liberation\n",
      "The Goldfinch\n",
      "The Forever War (The Forever War, #1)\n",
      "The God of Small Things\n",
      "Homage to Catalonia\n",
      "Rules for Radicals: A Pragmatic Primer for Realistic Radicals\n",
      "Developer Hegemony: The Future of Labor\n",
      "Reinventing Organizations: A Guide to Creating Organizations Inspired by the Next Stage of Human Consciousness\n",
      "Discontent and Its Civilizations: Dispatches from Lahore, New York, and London\n",
      "The Dispossessed\n",
      "What Got You Here Won't Get You There: How Successful People Become Even More Successful\n",
      "The Argonauts\n",
      "Alibaba: The House That Jack Ma Built\n",
      "UX for Lean Startups\n",
      "Blood Meridian: Or the Evening Redness in the West\n",
      "Was machst du kleiner Bagger?\n",
      "Wie kleine Tiere schlafen gehen\n",
      "Die kleine Raupe Nimmersatt\n",
      "Mein erstes Buch vom Körper\n",
      "Schlaf gut,Baby\n",
      "The Underground Railroad\n",
      "Blindsight (Firefall, #1)\n",
      "Financial Strategy for Public Managers\n",
      "Echopraxia (Firefall, #2)\n",
      "Never Split the Difference: Negotiating As If Your Life Depended On It\n",
      "Metaphors We Live By\n",
      "The Coaching Habit\n",
      "Pedagogy of the Oppressed\n"
     ]
    }
   ],
   "source": [
    "for title in reversed(list(df['Title'])):\n",
    "    print(title)"
   ]
  },
  {
   "cell_type": "code",
   "execution_count": null,
   "metadata": {},
   "outputs": [],
   "source": []
  }
 ],
 "metadata": {
  "kernelspec": {
   "display_name": "Python 3",
   "language": "python",
   "name": "python3"
  },
  "language_info": {
   "codemirror_mode": {
    "name": "ipython",
    "version": 3
   },
   "file_extension": ".py",
   "mimetype": "text/x-python",
   "name": "python",
   "nbconvert_exporter": "python",
   "pygments_lexer": "ipython3",
   "version": "3.6.4"
  }
 },
 "nbformat": 4,
 "nbformat_minor": 2
}
