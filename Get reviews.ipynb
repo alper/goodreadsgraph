{
 "cells": [
  {
   "cell_type": "code",
   "execution_count": 10,
   "metadata": {},
   "outputs": [],
   "source": [
    "import requests"
   ]
  },
  {
   "cell_type": "code",
   "execution_count": 11,
   "metadata": {},
   "outputs": [],
   "source": [
    "from credentials import API_KEY, API_SECRET"
   ]
  },
  {
   "cell_type": "code",
   "execution_count": 12,
   "metadata": {},
   "outputs": [],
   "source": [
    "public_goodreads_id = \"15956224\""
   ]
  },
  {
   "cell_type": "code",
   "execution_count": 13,
   "metadata": {},
   "outputs": [],
   "source": [
    "goodreads_id = \"841048\""
   ]
  },
  {
   "cell_type": "code",
   "execution_count": 14,
   "metadata": {},
   "outputs": [],
   "source": [
    "method = \"GET\""
   ]
  },
  {
   "cell_type": "code",
   "execution_count": 15,
   "metadata": {},
   "outputs": [],
   "source": [
    "url = \"https://www.goodreads.com/review/list\""
   ]
  },
  {
   "cell_type": "code",
   "execution_count": 16,
   "metadata": {},
   "outputs": [],
   "source": [
    "params = {'v': '2', \n",
    "          'id': goodreads_id, \n",
    "          'per_page': '200', \n",
    "          'key': API_KEY,\n",
    "          'order': 'd',\n",
    "          'sort': 'date_read'\n",
    "         }"
   ]
  },
  {
   "cell_type": "code",
   "execution_count": 17,
   "metadata": {},
   "outputs": [],
   "source": [
    "r = requests.get(url, params=params)"
   ]
  },
  {
   "cell_type": "code",
   "execution_count": 18,
   "metadata": {},
   "outputs": [],
   "source": [
    "from bs4 import BeautifulSoup"
   ]
  },
  {
   "cell_type": "code",
   "execution_count": 19,
   "metadata": {},
   "outputs": [],
   "source": [
    "b = BeautifulSoup(r.text, 'xml')"
   ]
  },
  {
   "cell_type": "code",
   "execution_count": 20,
   "metadata": {},
   "outputs": [],
   "source": [
    "reviews = b.find_all('review')"
   ]
  },
  {
   "cell_type": "code",
   "execution_count": 21,
   "metadata": {},
   "outputs": [
    {
     "name": "stdout",
     "output_type": "stream",
     "text": [
      "<review>\n",
      "<id>2263212930</id>\n",
      "<book>\n",
      "<id type=\"integer\">7507944</id>\n",
      "<isbn>0670011967</isbn>\n",
      "<isbn13>9780670011964</isbn13>\n",
      "<text_reviews_count type=\"integer\">1176</text_reviews_count>\n",
      "<uri>kca://book/amzn1.gr.book.v1.vW83aI_MpUpmsK4H_j_3uQ</uri>\n",
      "<title>Akata Witch (Akata Witch, #1)</title>\n",
      "<title_without_series>Akata Witch</title_without_series>\n",
      "<image_url>https://images.gr-assets.com/books/1347794798m/7507944.jpg</image_url>\n",
      "<small_image_url>https://images.gr-assets.com/books/1347794798s/7507944.jpg</small_image_url>\n",
      "<large_image_url/>\n",
      "<link>https://www.goodreads.com/book/show/7507944-akata-witch</link>\n",
      "<num_pages>349</num_pages>\n",
      "<format>Hardcover</format>\n",
      "<edition_information/>\n",
      "<publisher>Viking Children's</publisher>\n",
      "<publication_day>14</publication_day>\n",
      "<publication_year>2011</publication_year>\n",
      "<publication_month>4</publication_month>\n",
      "<average_rating>4.08</average_rating>\n",
      "<ratings_count>6359</ratings_count>\n",
      "<description>&lt;i&gt;Akata Witch&lt;/i&gt; transports the reader to a magical place where nothing is quite as it seems. Born in New York, but living in Aba, Nigeria, twelve-year old Sunny is understandably a little lost. She is albino and thus, incredibly sensitive to the sun. All Sunny wants to do is be able to play football and get through another day of school without being bullied. But once she befriends Orlu and Chichi, Sunny is plunged in to the world of the Leopard People, where your worst defect becomes your greatest asset. Together, Sunny, Orlu, Chichi and Sasha form the youngest ever Oha Coven. Their mission is to track down Black Hat Otokoto, the man responsible for kidnapping and maiming children. Will Sunny be able to overcome the killer with powers stronger than her own, or will the future she saw in the flames become reality?</description>\n",
      "<authors>\n",
      "<author>\n",
      "<id>588356</id>\n",
      "<name>Nnedi Okorafor</name>\n",
      "<role/>\n",
      "<image_url nophoto=\"false\">\n",
      "https://images.gr-assets.com/authors/1507148868p5/588356.jpg\n",
      "</image_url>\n",
      "<small_image_url nophoto=\"false\">\n",
      "https://images.gr-assets.com/authors/1507148868p2/588356.jpg\n",
      "</small_image_url>\n",
      "<link>https://www.goodreads.com/author/show/588356.Nnedi_Okorafor</link>\n",
      "<average_rating>3.98</average_rating>\n",
      "<ratings_count>55658</ratings_count>\n",
      "<text_reviews_count>9914</text_reviews_count>\n",
      "</author>\n",
      "</authors>\n",
      "<published>2011</published>\n",
      "<work> <id>9695029</id>\n",
      "<uri>kca://work/amzn1.gr.work.v1.WhLn_WjqdxDXhK4DQSZHVQ</uri>\n",
      "</work></book>\n",
      "<rating>4</rating>\n",
      "<votes>0</votes>\n",
      "<spoiler_flag>false</spoiler_flag>\n",
      "<spoilers_state>none</spoilers_state>\n",
      "<shelves>\n",
      "<shelf exclusive=\"true\" name=\"read\"/>\n",
      "</shelves>\n",
      "<recommended_for/>\n",
      "<recommended_by/>\n",
      "<started_at>Thu Jan 18 13:08:24 -0800 2018</started_at>\n",
      "<read_at>Sun Jan 21 12:07:50 -0800 2018</read_at>\n",
      "<date_added>Thu Jan 18 13:08:23 -0800 2018</date_added>\n",
      "<date_updated>Sun Jan 21 12:07:50 -0800 2018</date_updated>\n",
      "<read_count>1</read_count>\n",
      "<body>\n",
      "</body>\n",
      "<comments_count>0</comments_count>\n",
      "<url>https://www.goodreads.com/review/show/2263212930</url>\n",
      "<link>https://www.goodreads.com/review/show/2263212930</link>\n",
      "<owned>0</owned>\n",
      "</review>\n"
     ]
    }
   ],
   "source": [
    "print(reviews[0])"
   ]
  },
  {
   "cell_type": "code",
   "execution_count": 22,
   "metadata": {},
   "outputs": [],
   "source": [
    "from dateutil import parser"
   ]
  },
  {
   "cell_type": "code",
   "execution_count": 23,
   "metadata": {},
   "outputs": [
    {
     "data": {
      "text/plain": [
       "datetime.datetime(2018, 1, 21, 12, 7, 50, tzinfo=tzoffset(None, -28800))"
      ]
     },
     "execution_count": 23,
     "metadata": {},
     "output_type": "execute_result"
    }
   ],
   "source": [
    "parser.parse(reviews[0].read_at.string)"
   ]
  },
  {
   "cell_type": "code",
   "execution_count": 24,
   "metadata": {},
   "outputs": [],
   "source": [
    "books_2017 = [r for r in reviews if r.read_at.string and parser.parse(r.read_at.string).year==2017]"
   ]
  },
  {
   "cell_type": "code",
   "execution_count": 25,
   "metadata": {
    "scrolled": true
   },
   "outputs": [
    {
     "data": {
      "text/plain": [
       "52"
      ]
     },
     "execution_count": 25,
     "metadata": {},
     "output_type": "execute_result"
    }
   ],
   "source": [
    "len(books_2017)"
   ]
  },
  {
   "cell_type": "code",
   "execution_count": 26,
   "metadata": {},
   "outputs": [],
   "source": [
    "import csv\n",
    "with open('data.csv', 'w') as csvfile:\n",
    "    bookwriter = csv.writer(csvfile)\n",
    "    \n",
    "    for r in books_2017:\n",
    "        bookwriter.writerow([r.title.string, \n",
    "                             parser.parse(r.read_at.string).year, \n",
    "                             parser.parse(r.read_at.string).month, \n",
    "                             parser.parse(r.read_at.string).day,\n",
    "                             r.num_pages.string or 0])"
   ]
  },
  {
   "cell_type": "code",
   "execution_count": 27,
   "metadata": {},
   "outputs": [
    {
     "data": {
      "text/plain": [
       "[<review>\n",
       " <id>1799355633</id>\n",
       " <book>\n",
       " <id type=\"integer\">13485158</id>\n",
       " <isbn>9044512315</isbn>\n",
       " <isbn13>9789044512311</isbn13>\n",
       " <text_reviews_count type=\"integer\">3</text_reviews_count>\n",
       " <uri>kca://book/amzn1.gr.book.v1.WV7D60Hv8YBHemSgmWoKxw</uri>\n",
       " <title>Aarde der mensen</title>\n",
       " <title_without_series>Aarde der mensen</title_without_series>\n",
       " <image_url>https://images.gr-assets.com/books/1329256551m/13485158.jpg</image_url>\n",
       " <small_image_url>https://images.gr-assets.com/books/1329256551s/13485158.jpg</small_image_url>\n",
       " <large_image_url/>\n",
       " <link>https://www.goodreads.com/book/show/13485158-aarde-der-mensen</link>\n",
       " <num_pages>432</num_pages>\n",
       " <format>Paperback</format>\n",
       " <edition_information/>\n",
       " <publisher>De Geus</publisher>\n",
       " <publication_day>29</publication_day>\n",
       " <publication_year>2008</publication_year>\n",
       " <publication_month>4</publication_month>\n",
       " <average_rating>4.38</average_rating>\n",
       " <ratings_count>11068</ratings_count>\n",
       " <description>Minke, zoon van een Javaans regent, krijgt als een van de weinige niet-Europeanen toegang tot de HBS. Zijn liefde voor Annelies Mellema, een schoonheid van gemengde afkomst, brengt hem in contact met haar moeder en de apartheidswetten in het koloniale Indië. Door de ogen van Minke, die de pen als wapen leert hanteren, krijgen we inzicht in de Indische maatschappij rond het begin van de twintigste eeuw.&lt;br /&gt;&lt;br /&gt;Aarde der mensen is het eerste deel van Pradmoedya's tetralogie, waartoe ook de delen Kind van alle volken, Voetsporen en Het glazen huis behoren.</description>\n",
       " <authors>\n",
       " <author>\n",
       " <id>101823</id>\n",
       " <name>Pramoedya Ananta Toer</name>\n",
       " <role/>\n",
       " <image_url nophoto=\"false\">\n",
       " https://images.gr-assets.com/authors/1189683798p5/101823.jpg\n",
       " </image_url>\n",
       " <small_image_url nophoto=\"false\">\n",
       " https://images.gr-assets.com/authors/1189683798p2/101823.jpg\n",
       " </small_image_url>\n",
       " <link>https://www.goodreads.com/author/show/101823.Pramoedya_Ananta_Toer</link>\n",
       " <average_rating>4.14</average_rating>\n",
       " <ratings_count>43052</ratings_count>\n",
       " <text_reviews_count>4334</text_reviews_count>\n",
       " </author>\n",
       " </authors>\n",
       " <published>2008</published>\n",
       " <work> <id>1881100</id>\n",
       " <uri>kca://work/amzn1.gr.work.v1.71lVz7Gm6VP_FkNn7usZSg</uri>\n",
       " </work></book>\n",
       " <rating>4</rating>\n",
       " <votes>1</votes>\n",
       " <spoiler_flag>false</spoiler_flag>\n",
       " <spoilers_state>none</spoilers_state>\n",
       " <shelves>\n",
       " <shelf exclusive=\"true\" name=\"read\"/>\n",
       " </shelves>\n",
       " <recommended_for/>\n",
       " <recommended_by/>\n",
       " <started_at>Tue May 30 00:00:00 -0700 2017</started_at>\n",
       " <read_at/>\n",
       " <date_added>Mon Oct 31 16:07:09 -0700 2016</date_added>\n",
       " <date_updated>Wed Jun 07 07:28:42 -0700 2017</date_updated>\n",
       " <read_count>1</read_count>\n",
       " <body>\n",
       " </body>\n",
       " <comments_count>0</comments_count>\n",
       " <url>https://www.goodreads.com/review/show/1799355633</url>\n",
       " <link>https://www.goodreads.com/review/show/1799355633</link>\n",
       " <owned>0</owned>\n",
       " </review>]"
      ]
     },
     "execution_count": 27,
     "metadata": {},
     "output_type": "execute_result"
    }
   ],
   "source": [
    "# Strangely enough goodreads does not return the read_at for this book\n",
    "[r for r in reviews if not r.read_at.string]"
   ]
  },
  {
   "cell_type": "code",
   "execution_count": 28,
   "metadata": {},
   "outputs": [],
   "source": [
    "from itertools import groupby"
   ]
  },
  {
   "cell_type": "code",
   "execution_count": 29,
   "metadata": {},
   "outputs": [
    {
     "name": "stdout",
     "output_type": "stream",
     "text": [
      "12\n",
      "2290\n",
      "Terug naar Oegstgeest 252\n",
      "Pedagogy of the Oppressed 192\n",
      "The Coaching Habit: Say Less, Ask More & Change the Way You Lead Forever None\n",
      "Metaphors We Live By 276\n",
      "Never Split the Difference: Negotiating As If Your Life Depended On It 288\n",
      "Echopraxia (Firefall, #2) 384\n",
      "Financial Strategy for Public Managers None\n",
      "Blindsight (Firefall, #1) 384\n",
      "The Underground Railroad 306\n",
      "Schlaf gut,Baby 208\n",
      "Was machst du kleiner Bagger? None\n",
      "Mein erstes Buch vom Körper None\n",
      "Wie kleine Tiere schlafen gehen None\n",
      "Die kleine Raupe Nimmersatt None\n",
      "Blood Meridian: Or the Evening Redness in the West None\n",
      "\n",
      "11\n",
      "1347\n",
      "UX for Lean Startups 240\n",
      "Alibaba: The House That Jack Ma Built 304\n",
      "The Argonauts 160\n",
      "What Got You Here Won't Get You There: How Successful People Become Even More Successful 256\n",
      "The Dispossessed 387\n",
      "\n",
      "10\n",
      "810\n",
      "Discontent and Its Civilizations: Dispatches from Lahore, New York, and London None\n",
      "Reinventing Organizations: A Guide to Creating Organizations Inspired by the Next Stage of Human Consciousness 382\n",
      "Developer Hegemony: The Future of Labor None\n",
      "Rules for Radicals: A Pragmatic Primer for Realistic Radicals 196\n",
      "Homage to Catalonia 232\n",
      "\n",
      "9\n",
      "1549\n",
      "The God of Small Things 340\n",
      "The Forever War (The Forever War, #1) 278\n",
      "The Goldfinch 771\n",
      "The Truth of Suffering and the Path of Liberation 160\n",
      "\n",
      "8\n",
      "1286\n",
      "The Art of Not Being Governed: An Anarchist History of Upland Southeast Asia 464\n",
      "The Kingdom of Gods (Inheritance, #3) 613\n",
      "Managing Humans: Biting and Humorous Tales of a Software Engineering Manager 209\n",
      "\n",
      "7\n",
      "1937\n",
      "The Principles of Product Development Flow: Second Generation Lean Product Development 276\n",
      "The Baby Whisperer Solves All Your Problems: Sleeping, Feeding, and Behavior--Beyond the Basics from Infancy Through Toddlerhood None\n",
      "The Broken Kingdoms (Inheritance, #2) 384\n",
      "Advanced Swift 362\n",
      "The Hundred Thousand Kingdoms (Inheritance Trilogy, #1) 427\n",
      "The Happiest Baby on the Block and The Happiest Toddler on the Block 2-Book Bundle 488\n",
      "\n",
      "6\n",
      "210\n",
      "Babys brauchen Väter None\n",
      "Unfortunately, It Was Paradise: Selected Poems 210\n",
      "\n",
      "4\n",
      "392\n",
      "We Have Never Been Modern 168\n",
      "Notes on the Synthesis of Form 224\n",
      "\n",
      "3\n",
      "218\n",
      "The Name Of The Rose None\n",
      "Personal Kanban: Mapping Work Navigating Life 218\n",
      "\n",
      "2\n",
      "259\n",
      "Mann Und Vater Sein None\n",
      "Open City 259\n",
      "\n",
      "1\n",
      "1545\n",
      "The Holocaust Industry: Reflections on the Exploitation of Jewish Suffering 288\n",
      "Blue Mars (Mars Trilogy, #3) 761\n",
      "The Lathe of Heaven 176\n",
      "Extreme Ownership: How U.S. Navy SEALs Lead and Win 320\n",
      "Água Viva None\n",
      "Lean UX: Applying Lean Principles to Improve User Experience None\n",
      "\n"
     ]
    }
   ],
   "source": [
    "for key, group in groupby(books_2017, lambda r: parser.parse(r.read_at.string).month):\n",
    "    reviews = list(group)\n",
    "    print (key)\n",
    "    print (sum([int(r.num_pages.string or '0') for r in reviews]))\n",
    "    for r in reviews:\n",
    "        print(r.title.string, r.num_pages.string)\n",
    "    print(\"\")"
   ]
  },
  {
   "cell_type": "code",
   "execution_count": null,
   "metadata": {},
   "outputs": [],
   "source": []
  }
 ],
 "metadata": {
  "kernelspec": {
   "display_name": "Python 3",
   "language": "python",
   "name": "python3"
  },
  "language_info": {
   "codemirror_mode": {
    "name": "ipython",
    "version": 3
   },
   "file_extension": ".py",
   "mimetype": "text/x-python",
   "name": "python",
   "nbconvert_exporter": "python",
   "pygments_lexer": "ipython3",
   "version": "3.6.4"
  }
 },
 "nbformat": 4,
 "nbformat_minor": 2
}
